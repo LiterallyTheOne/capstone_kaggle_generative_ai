{
 "cells": [
  {
   "cell_type": "markdown",
   "id": "7d0e3103",
   "metadata": {},
   "source": [
    "# haha"
   ]
  },
  {
   "cell_type": "code",
   "execution_count": 1,
   "id": "07044899",
   "metadata": {},
   "outputs": [],
   "source": [
    "from IPython.display import display, Markdown, Audio\n",
    "\n",
    "from google import genai\n",
    "from google.api_core import retry\n",
    "\n",
    "from pathlib import Path\n",
    "\n",
    "from PIL import Image"
   ]
  },
  {
   "cell_type": "code",
   "execution_count": 2,
   "id": "6359b533",
   "metadata": {},
   "outputs": [],
   "source": [
    "is_retriable = lambda e: (isinstance(e, genai.errors.APIError) and e.code in {429, 503})\n",
    "\n",
    "genai.models.Models.generate_content = retry.Retry(predicate=is_retriable)(\n",
    "    genai.models.Models.generate_content\n",
    ")"
   ]
  },
  {
   "cell_type": "markdown",
   "id": "d2844739",
   "metadata": {},
   "source": [
    "## Config"
   ]
  },
  {
   "cell_type": "code",
   "execution_count": 3,
   "id": "85f4ad59",
   "metadata": {},
   "outputs": [],
   "source": [
    "try:\n",
    "    import google.colab  # type: ignore\n",
    "\n",
    "    %pip install -U -q \"google-generativeai\"\n",
    "    IN_COLAB = True\n",
    "except ImportError:\n",
    "    IN_COLAB = False\n",
    "\n",
    "\n",
    "if IN_COLAB:\n",
    "    from google.colab import userdata  # type: ignore\n",
    "\n",
    "    api_key = userdata.get(\"GOOGLE_API_KEY\")\n",
    "else:\n",
    "    api_key = Path(\"../api_keys/google_api_key\").open().read()\n",
    "\n",
    "client = genai.Client(api_key=api_key)"
   ]
  },
  {
   "cell_type": "markdown",
   "id": "7b47f4a1",
   "metadata": {},
   "source": [
    "## Run"
   ]
  },
  {
   "cell_type": "code",
   "execution_count": null,
   "id": "868623d5",
   "metadata": {},
   "outputs": [
    {
     "name": "stdout",
     "output_type": "stream",
     "text": [
      "  % Total    % Received % Xferd  Average Speed   Time    Time     Time  Current\n",
      "                                 Dload  Upload   Total   Spent    Left  Speed\n",
      "100  247k  100  247k    0     0  75459      0  0:00:03  0:00:03 --:--:-- 75471\n"
     ]
    }
   ],
   "source": [
    "!curl -O  https://storage.googleapis.com/generativeai-downloads/images/cake.jpg\n",
    "image = Image.open(\"cake.jpg\")\n",
    "image"
   ]
  },
  {
   "cell_type": "code",
   "execution_count": 7,
   "id": "2402320f",
   "metadata": {},
   "outputs": [
    {
     "data": {
      "text/markdown": [
       "Here's a detailed description of the image:\n",
       "\n",
       "**Subject:** A slice of Tiramisu dessert, presented artfully on a white plate.\n",
       "\n",
       "**Tiramisu Details:**\n",
       "*   **Form:** The tiramisu is a neatly cut, rectangular slice.\n",
       "*   **Layers:** It exhibits distinct layers:\n",
       "    *   A dark, possibly chocolate or coffee-soaked base.\n",
       "    *   Creamy, light-colored layers alternating with soaked ladyfinger layers.\n",
       "    *   The top is generously dusted with cocoa powder and dotted with small, dark chocolate pieces.\n",
       "*   **Garnish:** A small sprig of fresh mint adorns the top corner, adding a touch of green.\n",
       "\n",
       "**Plate Presentation:**\n",
       "*   **Plate:** The tiramisu rests on a white, shallow plate with a subtle rim detail.\n",
       "*   **Sauce Decoration:** Dark chocolate sauce is drizzled across the plate in an artistic, abstract pattern.\n",
       "*   **Cocoa Dusting:** Additional cocoa powder is sprinkled around the plate, adding to the visual appeal.\n",
       "\n",
       "**Overall Impression:**\n",
       "The image presents a high-quality, appealing dessert, likely meant for a restaurant or catering setting. The lighting is bright and even, highlighting the textures and layers of the tiramisu. The composition and presentation are both elegant and inviting, emphasizing the dessert's richness and flavor."
      ],
      "text/plain": [
       "<IPython.core.display.Markdown object>"
      ]
     },
     "execution_count": 7,
     "metadata": {},
     "output_type": "execute_result"
    }
   ],
   "source": [
    "prompt = [\n",
    "    \"What is this? Please describe it in detail.\",\n",
    "    image,\n",
    "]\n",
    "\n",
    "response = client.models.generate_content(\n",
    "    model=\"gemini-2.0-flash\",\n",
    "    contents=prompt,\n",
    ")\n",
    "\n",
    "Markdown(response.text)"
   ]
  },
  {
   "cell_type": "code",
   "execution_count": null,
   "id": "1d4bf85e",
   "metadata": {},
   "outputs": [],
   "source": []
  }
 ],
 "metadata": {
  "kernelspec": {
   "display_name": "kaggle_gen_ai",
   "language": "python",
   "name": "python3"
  },
  "language_info": {
   "codemirror_mode": {
    "name": "ipython",
    "version": 3
   },
   "file_extension": ".py",
   "mimetype": "text/x-python",
   "name": "python",
   "nbconvert_exporter": "python",
   "pygments_lexer": "ipython3",
   "version": "3.12.9"
  }
 },
 "nbformat": 4,
 "nbformat_minor": 5
}
